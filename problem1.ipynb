{
 "cells": [
  {
   "cell_type": "markdown",
   "id": "a3a4a517eb6d86f3",
   "metadata": {},
   "source": [
    "## Solution Approach\n",
    "\n",
    "A mathematical optimization model has five components, namely:\n",
    "\n",
    "* Sets and indices.\n",
    "* Parameters.\n",
    "* Decision variables.\n",
    "* Objective function(s).\n",
    "* Constraints."
   ]
  },
  {
   "cell_type": "markdown",
   "id": "17ad3d5464b6d762",
   "metadata": {},
   "source": [
    "## Model Formulation\n",
    "\n",
    "### Sets and Indices\n",
    "\n",
    "$G(V,E)$: Graph that represents the airport network, where $V$ is the set of vertices and $E$ is the set of edges. The sirports are vertices in the set of vertices $V$ of the graph. The set of flight paths are the edges of the graph.(we assume there is a flight path between each pair of airports) "
   ]
  },
  {
   "cell_type": "markdown",
   "id": "87a1d525a4e31098",
   "metadata": {},
   "source": [
    "### Parameters\n",
    "$d_{i,j} \\in \\mathbb{R}^+ $:haversine distance from vertex $i \\in V$ to vertex $j \\in V$.\n"
   ]
  },
  {
   "cell_type": "markdown",
   "id": "8cafd273",
   "metadata": {},
   "source": [
    "\n",
    "### Decision Variables\n",
    "$x_{ij} = \\begin{cases} \n",
    "1 & \\text{if arc from node } i \\text{ to node } j \\text{ is traversed, } i \\neq j; \\\\\n",
    "0 & \\text{otherwise.}\n",
    "\\end{cases}$\n",
    "\n",
    "### Objective Function\n",
    "Minimize the total distance traveled:\n",
    "\n",
    "$$\n",
    "\\min \\sum_{i \\in N} \\sum_{j \\in N, j \\neq i} d_{ij} x_{ij}\n",
    "$$\n",
    "### Constraints\n",
    "1. Each node must be departed from exactly once:\n",
    "$$\n",
    "\\sum_{j \\in N, j \\neq i} x_{ij} = 1 \\quad \\forall i \\in N\n",
    "$$\n",
    "2. Each node must be arrived at exactly once:\n",
    "$$\n",
    "\\sum_{i \\in N, i \\neq j} x_{ij} = 1 \\quad \\forall j \\in N\n",
    "$$\n",
    "3. Binary constraints on decision variables:\n",
    "$$\n",
    "x_{ij} \\in \\{0, 1\\} \\quad \\forall i \\in N, \\forall j \\in N\n",
    "$$\n",
    "\n"
   ]
  }
 ],
 "metadata": {
  "kernelspec": {
   "display_name": "Python 3",
   "language": "python",
   "name": "python3"
  },
  "language_info": {
   "codemirror_mode": {
    "name": "ipython",
    "version": 2
   },
   "file_extension": ".py",
   "mimetype": "text/x-python",
   "name": "python",
   "nbconvert_exporter": "python",
   "pygments_lexer": "ipython2",
   "version": "2.7.6"
  }
 },
 "nbformat": 4,
 "nbformat_minor": 5
}
