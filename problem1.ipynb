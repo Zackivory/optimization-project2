{
 "cells": [
  {
   "cell_type": "markdown",
   "id": "a3a4a517eb6d86f3",
   "metadata": {},
   "source": [
    "## Solution Approach\n",
    "\n",
    "A mathematical optimization model has five components, namely:\n",
    "\n",
    "* Sets and indices.\n",
    "* Parameters.\n",
    "* Decision variables.\n",
    "* Objective function(s).\n",
    "* Constraints."
   ]
  },
  {
   "cell_type": "markdown",
   "id": "17ad3d5464b6d762",
   "metadata": {},
   "source": [
    "## Model Formulation\n",
    "\n",
    "### Sets and Indices\n",
    "\n",
    "$G(N,E)$: Graph that represents the airport network, where $N$ is the set of vertices and $E$ is the set of edges. The sirports are vertices in the set of nodes $N$ of the graph. The set of flight paths are the edges of the graph.(we assume there is a flight path between each pair of airports) "
   ]
  },
  {
   "cell_type": "markdown",
   "id": "87a1d525a4e31098",
   "metadata": {},
   "source": [
    "### Parameters\n",
    "$d_{i,j} \\in \\mathbb{R}^+ $:haversine distance from vertex $i \\in N$ to vertex $j \\in N$.\n"
   ]
  },
  {
   "cell_type": "markdown",
   "id": "8cafd273",
   "metadata": {},
   "source": [
    "\n",
    "### Decision Variables\n",
    "$x_{ij} = \\begin{cases} \n",
    "1 & \\text{if arc from node } i \\text{ to node } j \\text{ is traversed, } i \\neq j; \\\\\n",
    "0 & \\text{otherwise.}\n",
    "\\end{cases}$\n",
    "\n",
    "\n",
    "## Miller-Tucker-Zemlin TSP Formulation\n",
    "# \n",
    "### Objective Function\n",
    "Minimize the total distance traveled:\n",
    "# \n",
    "$$\n",
    "\\min \\sum_{i \\in N} \\sum_{j \\in N} d_{ij} x_{ij}\n",
    "$$\n",
    "# \n",
    "### Constraints\n",
    "1. Each node must be departed from exactly once:\n",
    "$$\n",
    "\\sum_{j \\in N, j \\neq i} x_{ij} = 1 \\quad \\forall i \\in N\n",
    "$$\n",
    "2. Each node must be arrived at exactly once:\n",
    "$$\n",
    "\\sum_{i \\in N, i \\neq j} x_{ij} = 1 \\quad \\forall j \\in N\n",
    "$$\n",
    "3. Subtour elimination constraints:\n",
    "$$\n",
    "u_i + 1 \\leq u_j + (n-1)(1-x_{ij}), \\quad \\forall i \\in N, j \\in N, i \\neq j \\neq 1\n",
    "$$\n",
    "4. No self-loops:\n",
    "$$\n",
    "x_{ii} = 0 \\quad \\forall i \\in N\n",
    "$$\n",
    "5. Binary constraints on decision variables:\n",
    "$$\n",
    "x_{ij} \\in \\{0, 1\\} \\quad \\forall i \\in N, j \\in N, i \\neq j\n",
    "$$\n",
    "6. Order constraints:\n",
    "$$\n",
    "u_1 = 1\n",
    "$$\n",
    "$$\n",
    "2 \\leq u_i \\leq n \\quad \\forall i \\in N, i \\neq 1\n",
    "$$\n",
    "7. return to airport dummy constraint\n",
    "$$x_{1,0}=1\n",
    "$$\n",
    "\n"
   ]
  },
  {
   "cell_type": "code",
   "id": "e2616da3",
   "metadata": {
    "ExecuteTime": {
     "end_time": "2024-11-20T21:43:16.010004Z",
     "start_time": "2024-11-20T21:43:15.833201Z"
    }
   },
   "source": [
    "from pprint import pprint\n",
    "import pandas as pd\n",
    "import networkx as nx\n",
    "from haversine import haversine, Unit\n",
    "\n",
    "# Load the data\n",
    "data = pd.read_csv('airports.csv')\n",
    "# Add one to the first column value\n",
    "data['Unnamed: 0'] = data['Unnamed: 0'] + 1\n",
    "\n",
    "# Create a graph\n",
    "G = nx.Graph()\n",
    "\n",
    "# Add nodes\n",
    "for index, row in data.iterrows():\n",
    "    G.add_node(row['Unnamed: 0'], country=row['country'], airport_name=row['airport_name'], airport_code=row['airport_code'], latitude_deg=row['latitude_deg'], longitude_deg=row['longitude_deg'])\n",
    "\n",
    "# Add edges with haversine distance as weight\n",
    "for i, row1 in data.iterrows():\n",
    "    for j, row2 in data.iterrows():\n",
    "        if i != j:\n",
    "            coord1 = (row1['latitude_deg'], row1['longitude_deg'])\n",
    "            coord2 = (row2['latitude_deg'], row2['longitude_deg'])\n",
    "            distance = haversine(coord1, coord2, unit=Unit.KILOMETERS)\n",
    "            G.add_edge(row1['Unnamed: 0'], row2['Unnamed: 0'], weight=distance)\n",
    "\n",
    "print(G)"
   ],
   "outputs": [
    {
     "name": "stdout",
     "output_type": "stream",
     "text": [
      "Graph with 45 nodes and 990 edges\n"
     ]
    }
   ],
   "execution_count": 8
  }
 ],
 "metadata": {
  "kernelspec": {
   "display_name": "Python 3",
   "language": "python",
   "name": "python3"
  },
  "language_info": {
   "codemirror_mode": {
    "name": "ipython",
    "version": 2
   },
   "file_extension": ".py",
   "mimetype": "text/x-python",
   "name": "python",
   "nbconvert_exporter": "python",
   "pygments_lexer": "ipython2",
   "version": "2.7.6"
  }
 },
 "nbformat": 4,
 "nbformat_minor": 5
}
